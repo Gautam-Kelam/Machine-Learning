{
 "cells": [
  {
   "cell_type": "code",
   "execution_count": 1,
   "metadata": {},
   "outputs": [
    {
     "data": {
      "text/html": [
       "\n",
       "<style>\n",
       "div.cell { /* Tunes the space between cells */\n",
       "margin-top:1em;\n",
       "margin-bottom:1em;\n",
       "}\n",
       "div.text_cell_render h1 { /* Main titles bigger, centered */\n",
       "font-size: 2.2em;\n",
       "line-height:1.4em;\n",
       "text-align:center;\n",
       "}\n",
       "div.text_cell_render h2 { /* Parts names nearer from text */\n",
       "margin-bottom: -0.4em;\n",
       "}\n",
       "div.text_cell_render { /* Customize text cells */\n",
       "font-family: 'Times New Roman';\n",
       "font-size:1.5em;\n",
       "line-height:1.4em;\n",
       "padding-left:3em;\n",
       "padding-right:3em;\n",
       "}\n",
       "</style>\n"
      ],
      "text/plain": [
       "<IPython.core.display.HTML object>"
      ]
     },
     "execution_count": 1,
     "metadata": {},
     "output_type": "execute_result"
    }
   ],
   "source": [
    "# The editing code taken from -\n",
    "# https://stackoverflow.com/questions/34303422/\n",
    "# how-to-change-the-font-size-and-color-of-markdown-cell-in-ipython-py-2-7-noteb\n",
    "from IPython.core.display import HTML\n",
    "HTML(\"\"\"\n",
    "<style>\n",
    "div.cell { /* Tunes the space between cells */\n",
    "margin-top:1em;\n",
    "margin-bottom:1em;\n",
    "}\n",
    "div.text_cell_render h1 { /* Main titles bigger, centered */\n",
    "font-size: 2.2em;\n",
    "line-height:1.4em;\n",
    "text-align:center;\n",
    "}\n",
    "div.text_cell_render h2 { /* Parts names nearer from text */\n",
    "margin-bottom: -0.4em;\n",
    "}\n",
    "div.text_cell_render { /* Customize text cells */\n",
    "font-family: 'Times New Roman';\n",
    "font-size:1.5em;\n",
    "line-height:1.4em;\n",
    "padding-left:3em;\n",
    "padding-right:3em;\n",
    "}\n",
    "</style>\n",
    "\"\"\")"
   ]
  },
  {
   "cell_type": "markdown",
   "metadata": {},
   "source": [
    "# Python Lambda's \n"
   ]
  },
  {
   "cell_type": "markdown",
   "metadata": {},
   "source": [
    "Python lambda's also known as anonymous functions, are functions that are defined without a name. As we know that functions in python are usually defined using the `def` keyword. However, the anonymous functions in python are defined using the keyword `lambda`.\n"
   ]
  },
  {
   "cell_type": "markdown",
   "metadata": {},
   "source": [
    "# Lambda function's syntax"
   ]
  },
  {
   "cell_type": "markdown",
   "metadata": {},
   "source": [
    "Lambda functions have the following synatx :-\n",
    "\n",
    "   __*lambda arguments : epression*__\n",
    "\n",
    "\n",
    "\n",
    "The above mentioned synatx can have any number of arguments. But, can have only one expression. The expression to the right of the colon is evaluvated and returned."
   ]
  },
  {
   "cell_type": "markdown",
   "metadata": {},
   "source": [
    "# Lambda function's example "
   ]
  },
  {
   "cell_type": "code",
   "execution_count": 1,
   "metadata": {},
   "outputs": [
    {
     "name": "stdout",
     "output_type": "stream",
     "text": [
      "output = 100\n"
     ]
    }
   ],
   "source": [
    "example = lambda x,y : x**y\n",
    "\n",
    "print \"output =\", example(10,2)"
   ]
  },
  {
   "cell_type": "markdown",
   "metadata": {},
   "source": [
    "In the above example \"lambda x,y : x\\*\\*y\" is a lambda function. Here, x and y are arguments of the function and x\\*\\*y is the expression which evaluvates the value of x raised to the power of y and returns it."
   ]
  },
  {
   "cell_type": "markdown",
   "metadata": {},
   "source": [
    "In the above example we can clearly see that the function has no name. The value returned by the function is assigned to the variable example."
   ]
  },
  {
   "cell_type": "markdown",
   "metadata": {},
   "source": [
    "The above example is similar to "
   ]
  },
  {
   "cell_type": "code",
   "execution_count": 2,
   "metadata": {},
   "outputs": [
    {
     "name": "stdout",
     "output_type": "stream",
     "text": [
      "output = 100\n"
     ]
    }
   ],
   "source": [
    "def power(x,y):\n",
    "    return x**y\n",
    "print \"output =\", power(10,2)"
   ]
  },
  {
   "cell_type": "markdown",
   "metadata": {},
   "source": [
    "# Why lambda functions?"
   ]
  },
  {
   "cell_type": "markdown",
   "metadata": {},
   "source": [
    "Sometimes we need functions for only a short duration of time. Instead of creating a function which remains in the scope of a program for as long as the program is being executed. We can have an anonymous function that lives for only short period of time."
   ]
  },
  {
   "cell_type": "markdown",
   "metadata": {},
   "source": [
    "Lambda functions are usually used along with higher order functions i.e. these functions take other functions as their input parameters. Lambda functions are generally passed as an argument to the built-in functions such as `map()`, `filter()` etc."
   ]
  },
  {
   "cell_type": "markdown",
   "metadata": {},
   "source": [
    "# Example of lambda function in map() "
   ]
  },
  {
   "cell_type": "markdown",
   "metadata": {},
   "source": [
    "The input arguments to the `map()` function is a function and a list. The `map()` function returns a new list that contains the item returned by that function for each of the items."
   ]
  },
  {
   "cell_type": "code",
   "execution_count": 3,
   "metadata": {},
   "outputs": [
    {
     "name": "stdout",
     "output_type": "stream",
     "text": [
      "output = [ 5 25 61]\n"
     ]
    }
   ],
   "source": [
    "# Summing two lists using lambda function in map()\n",
    "\n",
    "import numpy as np\n",
    "list1 = np.array([1,3,5])\n",
    "list2 = np.array([2,4,6])\n",
    "list3 = sum(map((lambda x : x*x),(list1,list2)))\n",
    "print \"output =\",list3"
   ]
  },
  {
   "cell_type": "code",
   "execution_count": 4,
   "metadata": {},
   "outputs": [
    {
     "name": "stdout",
     "output_type": "stream",
     "text": [
      "output = [11 13 15]\n"
     ]
    }
   ],
   "source": [
    "# summing two lists without using lambda function and map() \n",
    "\n",
    "list1 = np.array([1,3,5])\n",
    "list2 = np.array([2,4,6])\n",
    "print \"output =\",sum(list1,list2)"
   ]
  },
  {
   "cell_type": "markdown",
   "metadata": {},
   "source": [
    "In the first example of this section the lambda function produces two arrays which contains the square of the elements of list1 and list2 respectively. The `map()` function helps in elementwise summation of the two arrays by the `sum()` function. "
   ]
  },
  {
   "cell_type": "markdown",
   "metadata": {},
   "source": [
    "In the second example the sum function when called on two arrays, adds the elements of the first array to produce a single element and then adds the single element to each of the elements in the second array to produce the output"
   ]
  },
  {
   "cell_type": "markdown",
   "metadata": {},
   "source": [
    "# Example of lambda function in filter() "
   ]
  },
  {
   "cell_type": "markdown",
   "metadata": {},
   "source": [
    "The input arguments to the `filter()` function is a function and a list. The `filter()` function returns a new list of items for which the function evaluvates to true as output.   "
   ]
  },
  {
   "cell_type": "code",
   "execution_count": 5,
   "metadata": {},
   "outputs": [
    {
     "name": "stdout",
     "output_type": "stream",
     "text": [
      "my_list =  [1, 2, 3, 4, 5, 6, 7, 8]\n",
      "\n",
      "new_list =  [2, 4, 6, 8]\n"
     ]
    }
   ],
   "source": [
    "# usage of lambda function in filter()\n",
    "\n",
    "my_list = [1,2,3,4,5,6,7,8]\n",
    "\n",
    "new_list = filter((lambda x: (x%2==0)),my_list)\n",
    "\n",
    "print \"my_list = \",my_list\n",
    "print \"\\nnew_list = \",new_list"
   ]
  },
  {
   "cell_type": "markdown",
   "metadata": {},
   "source": [
    "In the above example the `filter()` function creates a list of elements containing all the even valued elements present in my_list."
   ]
  },
  {
   "cell_type": "markdown",
   "metadata": {},
   "source": [
    "   - By\n",
    "       -  Goutam Kelam\n",
    "       -  I MTech(CS)\n",
    "       -  Regd.No - 17555"
   ]
  }
 ],
 "metadata": {
  "kernelspec": {
   "display_name": "Python 2",
   "language": "python",
   "name": "python2"
  },
  "language_info": {
   "codemirror_mode": {
    "name": "ipython",
    "version": 2
   },
   "file_extension": ".py",
   "mimetype": "text/x-python",
   "name": "python",
   "nbconvert_exporter": "python",
   "pygments_lexer": "ipython2",
   "version": "2.7.13"
  }
 },
 "nbformat": 4,
 "nbformat_minor": 1
}
