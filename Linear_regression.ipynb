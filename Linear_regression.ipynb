{
 "cells": [
  {
   "cell_type": "markdown",
   "metadata": {},
   "source": [
    "# Linear Regression"
   ]
  },
  {
   "cell_type": "markdown",
   "metadata": {},
   "source": [
    "In this assignment we will try to define a linear relationship between the **input variable (X)**  and **output variable(Y)**. The input variable have multiple attributes, say ***n***. Then we can define a linear model as,\n",
    "\n",
    "$$ Y = \\beta_0 + \\beta_1 x_1 + ... + \\beta_n x_n $$\n",
    "\n",
    "where $\\beta_0$ is the bias term. We can write the above expression as,\n",
    "\n",
    "$$ Y = \\beta_0 x_0 + \\beta_1 x_1 + ... + \\beta_n x_n $$\n",
    "\n",
    "where $x_0 = 1$. Thus we can write an equivalent of the equation in a matrix form.\n",
    "\n",
    "$$ Y = \\beta^T X $$\n",
    "\n",
    "where $\\beta = [\\beta_0 , \\beta_1, ... , \\beta_n]^T $ and $ X = [x_0, x_1, ... , x_n]^T $"
   ]
  },
  {
   "cell_type": "markdown",
   "metadata": {},
   "source": [
    "To model the above linear model, we would need a hypothesis function. Let us define our hypothesis function as, \n",
    "\n",
    "$$ h_\\beta(x) = \\beta^Tx $$\n",
    "\n",
    "We now need a cost function to estimate the error in our model. So let our cost function be defined as,\n",
    "\n",
    "$$ J(\\beta) = \\frac{1}{2m} \\sum_{i=1}^{m}(h_\\beta(x^{(i)}) - y^{(i)})^2$$\n",
    "\n",
    "By minimizing the cost we can find the coefficients $\\beta$. We will be using ***Gradient Descent*** method for this."
   ]
  },
  {
   "cell_type": "code",
   "execution_count": 1,
   "metadata": {
    "collapsed": true
   },
   "outputs": [],
   "source": [
    "import numpy as np\n",
    "import matplotlib.pyplot as plt\n",
    "%matplotlib inline"
   ]
  },
  {
   "cell_type": "code",
   "execution_count": 2,
   "metadata": {},
   "outputs": [
    {
     "name": "stdout",
     "output_type": "stream",
     "text": [
      "(506, 13)\n"
     ]
    }
   ],
   "source": [
    "from sklearn.datasets import load_boston\n",
    "data = load_boston()\n",
    "\n",
    "print data.data.shape"
   ]
  },
  {
   "cell_type": "code",
   "execution_count": 3,
   "metadata": {},
   "outputs": [
    {
     "data": {
      "image/png": "[encoded data removed]",
      "text/plain": [
       "<matplotlib.figure.Figure at 0x7fcd4e47da90>"
      ]
     },
     "metadata": {},
     "output_type": "display_data"
    }
   ],
   "source": [
    "# Ploting the scores as scatter plot\n",
    "plt.figure(figsize=(7,5))\n",
    "plt.hist(data.target)\n",
    "plt.xlabel('price ($1000s)')\n",
    "plt.ylabel('count')\n",
    "plt.tight_layout()"
   ]
  },
  {
   "cell_type": "code",
   "execution_count": 4,
   "metadata": {},
   "outputs": [
    {
     "name": "stdout",
     "output_type": "stream",
     "text": [
      "X_train shape = (379, 13)\n",
      "y_train shape = (379,)\n",
      "X_test shape = (127, 13)\n",
      "y_test shape = (127,)\n"
     ]
    }
   ],
   "source": [
    "# splitting the dataset into train and test datasets\n",
    "\n",
    "from sklearn.model_selection import train_test_split\n",
    "X_train, X_test, y_train, y_test = train_test_split(data.data, data.target)\n",
    "\n",
    "print \"X_train shape =\", X_train.shape\n",
    "print \"y_train shape =\", y_train.shape\n",
    "\n",
    "print \"X_test shape =\", X_test.shape\n",
    "print \"y_test shape =\", y_test.shape\n"
   ]
  },
  {
   "cell_type": "code",
   "execution_count": 5,
   "metadata": {},
   "outputs": [],
   "source": [
    "m = len(X_train)\n",
    "x0 = np.ones((m,1))\n",
    "X = np.hstack((x0,X_train))\n",
    "Y = np.array(y_train)\n",
    "B = np.array(np.zeros(14))\n",
    "alpha = 1e-7"
   ]
  },
  {
   "cell_type": "code",
   "execution_count": 6,
   "metadata": {
    "collapsed": true
   },
   "outputs": [],
   "source": [
    "# Cost function\n",
    "\n",
    "def cost_function(X,Y,B):\n",
    "    m = len(Y)\n",
    "    J = np.sum((np.matmul(X,B) - Y)**2) / (2*m)\n",
    "    return J"
   ]
  },
  {
   "cell_type": "code",
   "execution_count": 7,
   "metadata": {},
   "outputs": [
    {
     "name": "stdout",
     "output_type": "stream",
     "text": [
      "298.361015831\n"
     ]
    }
   ],
   "source": [
    "cost_initial = cost_function(X,Y,B)\n",
    "print cost_initial"
   ]
  },
  {
   "cell_type": "markdown",
   "metadata": {},
   "source": [
    "We see that our initial cost of the model is high so we will use gradient descent method to reduce the cost.\n",
    "\n",
    "*** Hypothesis *** = $ h_\\beta(x) = \\beta^Tx $\n",
    "\n",
    "*** Loss *** = $ h_\\beta(x) - y $\n",
    "\n",
    "*** Gradient *** = $ (h_\\beta(x) - y)x_i $\n",
    "\n",
    "*** Gradient Descent Updation *** = $ \\beta_i:= \\beta_i - \\alpha((h_\\beta(x) - y)x_i) $"
   ]
  },
  {
   "cell_type": "code",
   "execution_count": 8,
   "metadata": {
    "collapsed": true
   },
   "outputs": [],
   "source": [
    "def Grad_descent(X,Y,B,alpha,iterations):\n",
    "    cost = [0]*iterations\n",
    "    m = len(Y)\n",
    "    for i in range(iterations):\n",
    "        hypo = np.matmul(X,B)\n",
    "        loss = hypo - Y\n",
    "        grad = np.matmul(loss,X)/m\n",
    "        B = B - (alpha * grad)\n",
    "        J = cost_function(X, Y, B)\n",
    "        cost[i] = J\n",
    "    return B, cost\n",
    "        "
   ]
  },
  {
   "cell_type": "code",
   "execution_count": 9,
   "metadata": {},
   "outputs": [
    {
     "name": "stdout",
     "output_type": "stream",
     "text": [
      "Final Beta =  [ 0.00555879 -0.07363869  0.13714733 -0.03204413  0.00420894  0.00181696\n",
      "  0.06640869  0.06212129  0.01074779  0.00143493  0.00262743  0.0502426\n",
      "  0.04750548 -0.18932836]\n",
      "final cost =  30.4429502197\n"
     ]
    }
   ],
   "source": [
    "finalB, finalCost = Grad_descent(X,Y,B,alpha,100000)\n",
    "\n",
    "print \"Final Beta = \", finalB\n",
    "\n",
    "print \"final cost = \", finalCost[-1]"
   ]
  },
  {
   "cell_type": "code",
   "execution_count": 10,
   "metadata": {},
   "outputs": [
    {
     "name": "stdout",
     "output_type": "stream",
     "text": [
      " Error(RMSE) =  8.41947930199\n"
     ]
    }
   ],
   "source": [
    "# Model evaluation - MSE\n",
    "def rmse(Y_actual, Y_predicted):\n",
    "    error = np.sqrt(sum((Y_actual - Y_predicted) ** 2) / len(Y_actual))\n",
    "    return error\n",
    "\n",
    "n = len(X_test)\n",
    "x0 = np.ones((n,1))\n",
    "X_test = (np.hstack((x0,X_test)))\n",
    "\n",
    "Y_predicted = np.matmul(X_test,finalB)\n",
    "\n",
    "print \" Error(RMSE) = \", rmse(y_test,Y_predicted)"
   ]
  },
  {
   "cell_type": "markdown",
   "metadata": {},
   "source": [
    "# Observations -"
   ]
  },
  {
   "cell_type": "markdown",
   "metadata": {
    "collapsed": true
   },
   "source": [
    "| s.no | No. of Iterations | learning_rate (alpha) | Error (RMSE)|\n",
    "|:---:|:-------:|:------:|:-----:|:----:|\n",
    "|1| 1000 | 1e-5 | nan|\n",
    "|2|1000| 1e-6 | 8.753|\n",
    "|3|1000| 1e-7 | 7.938 |\n",
    "|4| 1000| 1e-8 | 9.614|\n",
    "|5|10000|1e-5 | nan|\n",
    "|6| 10000| 1e-6 | 7.703|\n",
    "|7| 10000| 1e-7 | 8.607 |\n",
    "|8| 100000| 1e-5 | nan |\n",
    "|9| 100000| 1e-6 | 6.680 |\n",
    "|10| 100000| 1e-7 | 8.419 |"
   ]
  },
  {
   "cell_type": "markdown",
   "metadata": {
    "collapsed": true
   },
   "source": [
    "We observe that the learning rate must be very low i.e atleast 1e-6 to achieve any result. We also observe that the error term oscillates this is due to the gradient descent function which is being used to reduce the loss incurred by the model.\n",
    "\n",
    "The error for 100000 iterations and learning rate 1e-6 is 6.680 which is close to the actual error 5.045 when linear regression is performed on the boston housing dataset using scikit learn package.\n"
   ]
  }
 ],
 "metadata": {
  "kernelspec": {
   "display_name": "Python 2",
   "language": "python",
   "name": "python2"
  },
  "language_info": {
   "codemirror_mode": {
    "name": "ipython",
    "version": 2
   },
   "file_extension": ".py",
   "mimetype": "text/x-python",
   "name": "python",
   "nbconvert_exporter": "python",
   "pygments_lexer": "ipython2",
   "version": "2.7.13"
  }
 },
 "nbformat": 4,
 "nbformat_minor": 2
}
